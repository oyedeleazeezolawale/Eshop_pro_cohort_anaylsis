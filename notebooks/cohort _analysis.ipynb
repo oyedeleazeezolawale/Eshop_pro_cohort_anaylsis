{
 "cells": [
  {
   "cell_type": "code",
   "execution_count": 23,
   "id": "0549b260-3ed1-4a4e-b4ab-6aa64e210b00",
   "metadata": {},
   "outputs": [],
   "source": [
    "import pandas as pd\n",
    "import numpy as np\n",
    "import seaborn as sns\n",
    "import matplotlib.pyplot as plt\n",
    "import datetime as dt\n",
    "from matplotlib.ticker import FuncFormatter\n",
    "import warnings\n",
    "warnings.filterwarnings('ignore')"
   ]
  },
  {
   "cell_type": "code",
   "execution_count": 33,
   "id": "d57e552b-aa7c-4b5e-8988-6e478c600e52",
   "metadata": {},
   "outputs": [],
   "source": [
    "df = pd.read_csv(\"../data/Dataset_ecommerce.csv\")"
   ]
  },
  {
   "cell_type": "code",
   "execution_count": 31,
   "id": "3908ddeb-2003-45f6-87ee-f171b5724d34",
   "metadata": {},
   "outputs": [
    {
     "data": {
      "text/html": [
       "<div>\n",
       "<style scoped>\n",
       "    .dataframe tbody tr th:only-of-type {\n",
       "        vertical-align: middle;\n",
       "    }\n",
       "\n",
       "    .dataframe tbody tr th {\n",
       "        vertical-align: top;\n",
       "    }\n",
       "\n",
       "    .dataframe thead th {\n",
       "        text-align: right;\n",
       "    }\n",
       "</style>\n",
       "<table border=\"1\" class=\"dataframe\">\n",
       "  <thead>\n",
       "    <tr style=\"text-align: right;\">\n",
       "      <th></th>\n",
       "      <th>InvoiceNo</th>\n",
       "      <th>InvoiceDate</th>\n",
       "      <th>CustomerID</th>\n",
       "      <th>StockCode</th>\n",
       "      <th>Description</th>\n",
       "      <th>Quantity</th>\n",
       "      <th>UnitPrice</th>\n",
       "      <th>Country</th>\n",
       "    </tr>\n",
       "  </thead>\n",
       "  <tbody>\n",
       "    <tr>\n",
       "      <th>0</th>\n",
       "      <td>536365</td>\n",
       "      <td>2010-12-01 08:26:00</td>\n",
       "      <td>17850.0</td>\n",
       "      <td>SC1734</td>\n",
       "      <td>Electronics</td>\n",
       "      <td>65</td>\n",
       "      <td>10.23</td>\n",
       "      <td>Egypt</td>\n",
       "    </tr>\n",
       "    <tr>\n",
       "      <th>1</th>\n",
       "      <td>536365</td>\n",
       "      <td>2010-12-01 08:26:00</td>\n",
       "      <td>17850.0</td>\n",
       "      <td>SC2088</td>\n",
       "      <td>Furniture</td>\n",
       "      <td>95</td>\n",
       "      <td>19.61</td>\n",
       "      <td>Mali</td>\n",
       "    </tr>\n",
       "  </tbody>\n",
       "</table>\n",
       "</div>"
      ],
      "text/plain": [
       "  InvoiceNo          InvoiceDate  CustomerID StockCode  Description  Quantity  \\\n",
       "0    536365  2010-12-01 08:26:00     17850.0    SC1734  Electronics        65   \n",
       "1    536365  2010-12-01 08:26:00     17850.0    SC2088    Furniture        95   \n",
       "\n",
       "   UnitPrice Country  \n",
       "0      10.23   Egypt  \n",
       "1      19.61    Mali  "
      ]
     },
     "execution_count": 31,
     "metadata": {},
     "output_type": "execute_result"
    }
   ],
   "source": [
    "df.head(2)"
   ]
  },
  {
   "cell_type": "code",
   "execution_count": 29,
   "id": "5fd19de5-00a4-4bb0-ad3f-3d389e4540c6",
   "metadata": {},
   "outputs": [
    {
     "data": {
      "text/html": [
       "<div>\n",
       "<style scoped>\n",
       "    .dataframe tbody tr th:only-of-type {\n",
       "        vertical-align: middle;\n",
       "    }\n",
       "\n",
       "    .dataframe tbody tr th {\n",
       "        vertical-align: top;\n",
       "    }\n",
       "\n",
       "    .dataframe thead th {\n",
       "        text-align: right;\n",
       "    }\n",
       "</style>\n",
       "<table border=\"1\" class=\"dataframe\">\n",
       "  <thead>\n",
       "    <tr style=\"text-align: right;\">\n",
       "      <th></th>\n",
       "      <th>InvoiceNo</th>\n",
       "      <th>InvoiceDate</th>\n",
       "      <th>CustomerID</th>\n",
       "      <th>StockCode</th>\n",
       "      <th>Description</th>\n",
       "      <th>Quantity</th>\n",
       "      <th>UnitPrice</th>\n",
       "      <th>Country</th>\n",
       "    </tr>\n",
       "  </thead>\n",
       "  <tbody>\n",
       "    <tr>\n",
       "      <th>541907</th>\n",
       "      <td>581587</td>\n",
       "      <td>2011-12-09 12:50:00</td>\n",
       "      <td>12680.0</td>\n",
       "      <td>SC1099</td>\n",
       "      <td>Cosmetics</td>\n",
       "      <td>45</td>\n",
       "      <td>79.83</td>\n",
       "      <td>Senegal</td>\n",
       "    </tr>\n",
       "    <tr>\n",
       "      <th>541908</th>\n",
       "      <td>581587</td>\n",
       "      <td>2011-12-09 12:50:00</td>\n",
       "      <td>12680.0</td>\n",
       "      <td>SC9276</td>\n",
       "      <td>Toys</td>\n",
       "      <td>6</td>\n",
       "      <td>46.62</td>\n",
       "      <td>Ethiopia</td>\n",
       "    </tr>\n",
       "  </tbody>\n",
       "</table>\n",
       "</div>"
      ],
      "text/plain": [
       "       InvoiceNo          InvoiceDate  CustomerID StockCode Description  \\\n",
       "541907    581587  2011-12-09 12:50:00     12680.0    SC1099   Cosmetics   \n",
       "541908    581587  2011-12-09 12:50:00     12680.0    SC9276        Toys   \n",
       "\n",
       "        Quantity  UnitPrice   Country  \n",
       "541907        45      79.83   Senegal  \n",
       "541908         6      46.62  Ethiopia  "
      ]
     },
     "execution_count": 29,
     "metadata": {},
     "output_type": "execute_result"
    }
   ],
   "source": [
    "df.tail(2)"
   ]
  },
  {
   "cell_type": "code",
   "execution_count": 35,
   "id": "ed084641-bbcc-4782-966c-c564f7dd03be",
   "metadata": {},
   "outputs": [
    {
     "name": "stdout",
     "output_type": "stream",
     "text": [
      "<class 'pandas.core.frame.DataFrame'>\n",
      "RangeIndex: 541909 entries, 0 to 541908\n",
      "Data columns (total 8 columns):\n",
      " #   Column       Non-Null Count   Dtype  \n",
      "---  ------       --------------   -----  \n",
      " 0   InvoiceNo    541909 non-null  object \n",
      " 1   InvoiceDate  541909 non-null  object \n",
      " 2   CustomerID   406829 non-null  float64\n",
      " 3   StockCode    541909 non-null  object \n",
      " 4   Description  541909 non-null  object \n",
      " 5   Quantity     541909 non-null  int64  \n",
      " 6   UnitPrice    541909 non-null  float64\n",
      " 7   Country      541909 non-null  object \n",
      "dtypes: float64(2), int64(1), object(5)\n",
      "memory usage: 33.1+ MB\n"
     ]
    }
   ],
   "source": [
    "#check for more info on df\n",
    "df.info()"
   ]
  },
  {
   "cell_type": "code",
   "execution_count": 17,
   "id": "4510798c-bb8d-4d9d-a26f-558953484a4f",
   "metadata": {},
   "outputs": [
    {
     "data": {
      "text/html": [
       "<div>\n",
       "<style scoped>\n",
       "    .dataframe tbody tr th:only-of-type {\n",
       "        vertical-align: middle;\n",
       "    }\n",
       "\n",
       "    .dataframe tbody tr th {\n",
       "        vertical-align: top;\n",
       "    }\n",
       "\n",
       "    .dataframe thead th {\n",
       "        text-align: right;\n",
       "    }\n",
       "</style>\n",
       "<table border=\"1\" class=\"dataframe\">\n",
       "  <thead>\n",
       "    <tr style=\"text-align: right;\">\n",
       "      <th></th>\n",
       "      <th>InvoiceNo</th>\n",
       "      <th>InvoiceDate</th>\n",
       "      <th>CustomerID</th>\n",
       "      <th>StockCode</th>\n",
       "      <th>Description</th>\n",
       "      <th>Quantity</th>\n",
       "      <th>UnitPrice</th>\n",
       "      <th>Country</th>\n",
       "    </tr>\n",
       "  </thead>\n",
       "  <tbody>\n",
       "    <tr>\n",
       "      <th>count</th>\n",
       "      <td>541909</td>\n",
       "      <td>541909</td>\n",
       "      <td>406829.000000</td>\n",
       "      <td>541909</td>\n",
       "      <td>541909</td>\n",
       "      <td>541909.000000</td>\n",
       "      <td>541909.000000</td>\n",
       "      <td>541909</td>\n",
       "    </tr>\n",
       "    <tr>\n",
       "      <th>unique</th>\n",
       "      <td>25900</td>\n",
       "      <td>23260</td>\n",
       "      <td>NaN</td>\n",
       "      <td>9000</td>\n",
       "      <td>10</td>\n",
       "      <td>NaN</td>\n",
       "      <td>NaN</td>\n",
       "      <td>28</td>\n",
       "    </tr>\n",
       "    <tr>\n",
       "      <th>top</th>\n",
       "      <td>573585</td>\n",
       "      <td>2011-10-31 14:41:00</td>\n",
       "      <td>NaN</td>\n",
       "      <td>SC2014</td>\n",
       "      <td>Sports Equipment</td>\n",
       "      <td>NaN</td>\n",
       "      <td>NaN</td>\n",
       "      <td>Cote d'Ivoire</td>\n",
       "    </tr>\n",
       "    <tr>\n",
       "      <th>freq</th>\n",
       "      <td>1114</td>\n",
       "      <td>1114</td>\n",
       "      <td>NaN</td>\n",
       "      <td>96</td>\n",
       "      <td>54765</td>\n",
       "      <td>NaN</td>\n",
       "      <td>NaN</td>\n",
       "      <td>19651</td>\n",
       "    </tr>\n",
       "    <tr>\n",
       "      <th>mean</th>\n",
       "      <td>NaN</td>\n",
       "      <td>NaN</td>\n",
       "      <td>15287.690570</td>\n",
       "      <td>NaN</td>\n",
       "      <td>NaN</td>\n",
       "      <td>50.534748</td>\n",
       "      <td>50.476354</td>\n",
       "      <td>NaN</td>\n",
       "    </tr>\n",
       "    <tr>\n",
       "      <th>std</th>\n",
       "      <td>NaN</td>\n",
       "      <td>NaN</td>\n",
       "      <td>1713.600303</td>\n",
       "      <td>NaN</td>\n",
       "      <td>NaN</td>\n",
       "      <td>28.849367</td>\n",
       "      <td>28.564775</td>\n",
       "      <td>NaN</td>\n",
       "    </tr>\n",
       "    <tr>\n",
       "      <th>min</th>\n",
       "      <td>NaN</td>\n",
       "      <td>NaN</td>\n",
       "      <td>12346.000000</td>\n",
       "      <td>NaN</td>\n",
       "      <td>NaN</td>\n",
       "      <td>1.000000</td>\n",
       "      <td>1.000000</td>\n",
       "      <td>NaN</td>\n",
       "    </tr>\n",
       "    <tr>\n",
       "      <th>25%</th>\n",
       "      <td>NaN</td>\n",
       "      <td>NaN</td>\n",
       "      <td>13953.000000</td>\n",
       "      <td>NaN</td>\n",
       "      <td>NaN</td>\n",
       "      <td>26.000000</td>\n",
       "      <td>25.750000</td>\n",
       "      <td>NaN</td>\n",
       "    </tr>\n",
       "    <tr>\n",
       "      <th>50%</th>\n",
       "      <td>NaN</td>\n",
       "      <td>NaN</td>\n",
       "      <td>15152.000000</td>\n",
       "      <td>NaN</td>\n",
       "      <td>NaN</td>\n",
       "      <td>51.000000</td>\n",
       "      <td>50.430000</td>\n",
       "      <td>NaN</td>\n",
       "    </tr>\n",
       "    <tr>\n",
       "      <th>75%</th>\n",
       "      <td>NaN</td>\n",
       "      <td>NaN</td>\n",
       "      <td>16791.000000</td>\n",
       "      <td>NaN</td>\n",
       "      <td>NaN</td>\n",
       "      <td>76.000000</td>\n",
       "      <td>75.180000</td>\n",
       "      <td>NaN</td>\n",
       "    </tr>\n",
       "    <tr>\n",
       "      <th>max</th>\n",
       "      <td>NaN</td>\n",
       "      <td>NaN</td>\n",
       "      <td>18287.000000</td>\n",
       "      <td>NaN</td>\n",
       "      <td>NaN</td>\n",
       "      <td>100.000000</td>\n",
       "      <td>100.000000</td>\n",
       "      <td>NaN</td>\n",
       "    </tr>\n",
       "  </tbody>\n",
       "</table>\n",
       "</div>"
      ],
      "text/plain": [
       "       InvoiceNo          InvoiceDate     CustomerID StockCode  \\\n",
       "count     541909               541909  406829.000000    541909   \n",
       "unique     25900                23260            NaN      9000   \n",
       "top       573585  2011-10-31 14:41:00            NaN    SC2014   \n",
       "freq        1114                 1114            NaN        96   \n",
       "mean         NaN                  NaN   15287.690570       NaN   \n",
       "std          NaN                  NaN    1713.600303       NaN   \n",
       "min          NaN                  NaN   12346.000000       NaN   \n",
       "25%          NaN                  NaN   13953.000000       NaN   \n",
       "50%          NaN                  NaN   15152.000000       NaN   \n",
       "75%          NaN                  NaN   16791.000000       NaN   \n",
       "max          NaN                  NaN   18287.000000       NaN   \n",
       "\n",
       "             Description       Quantity      UnitPrice        Country  \n",
       "count             541909  541909.000000  541909.000000         541909  \n",
       "unique                10            NaN            NaN             28  \n",
       "top     Sports Equipment            NaN            NaN  Cote d'Ivoire  \n",
       "freq               54765            NaN            NaN          19651  \n",
       "mean                 NaN      50.534748      50.476354            NaN  \n",
       "std                  NaN      28.849367      28.564775            NaN  \n",
       "min                  NaN       1.000000       1.000000            NaN  \n",
       "25%                  NaN      26.000000      25.750000            NaN  \n",
       "50%                  NaN      51.000000      50.430000            NaN  \n",
       "75%                  NaN      76.000000      75.180000            NaN  \n",
       "max                  NaN     100.000000     100.000000            NaN  "
      ]
     },
     "execution_count": 17,
     "metadata": {},
     "output_type": "execute_result"
    }
   ],
   "source": [
    "#Descriptive stat\n",
    "df.describe(include =\"all\")"
   ]
  },
  {
   "cell_type": "code",
   "execution_count": 8,
   "id": "49c70972-004a-4e5f-92b8-a4ae6b5cc64b",
   "metadata": {},
   "outputs": [
    {
     "data": {
      "text/plain": [
       "InvoiceNo           0\n",
       "InvoiceDate         0\n",
       "CustomerID     135080\n",
       "StockCode           0\n",
       "Description         0\n",
       "Quantity            0\n",
       "UnitPrice           0\n",
       "Country             0\n",
       "dtype: int64"
      ]
     },
     "execution_count": 8,
     "metadata": {},
     "output_type": "execute_result"
    }
   ],
   "source": [
    "df.isnull().sum()"
   ]
  },
  {
   "cell_type": "code",
   "execution_count": 45,
   "id": "8c4c4915-38bf-45c8-83b4-809b00bf8fb9",
   "metadata": {},
   "outputs": [],
   "source": [
    "#drop missing values\n",
    "df.dropna(inplace = True)"
   ]
  },
  {
   "cell_type": "code",
   "execution_count": 47,
   "id": "9edd2ac4-826b-4b65-9197-61cbeaa401a9",
   "metadata": {},
   "outputs": [
    {
     "data": {
      "text/html": [
       "<div>\n",
       "<style scoped>\n",
       "    .dataframe tbody tr th:only-of-type {\n",
       "        vertical-align: middle;\n",
       "    }\n",
       "\n",
       "    .dataframe tbody tr th {\n",
       "        vertical-align: top;\n",
       "    }\n",
       "\n",
       "    .dataframe thead th {\n",
       "        text-align: right;\n",
       "    }\n",
       "</style>\n",
       "<table border=\"1\" class=\"dataframe\">\n",
       "  <thead>\n",
       "    <tr style=\"text-align: right;\">\n",
       "      <th></th>\n",
       "      <th>InvoiceNo</th>\n",
       "      <th>InvoiceDate</th>\n",
       "      <th>CustomerID</th>\n",
       "      <th>StockCode</th>\n",
       "      <th>Description</th>\n",
       "      <th>Quantity</th>\n",
       "      <th>UnitPrice</th>\n",
       "      <th>Country</th>\n",
       "      <th>TotalPrice</th>\n",
       "    </tr>\n",
       "  </thead>\n",
       "  <tbody>\n",
       "    <tr>\n",
       "      <th>0</th>\n",
       "      <td>536365</td>\n",
       "      <td>2010-12-01 08:26:00</td>\n",
       "      <td>17850.0</td>\n",
       "      <td>SC1734</td>\n",
       "      <td>Electronics</td>\n",
       "      <td>65</td>\n",
       "      <td>10.23</td>\n",
       "      <td>Egypt</td>\n",
       "      <td>664.95</td>\n",
       "    </tr>\n",
       "    <tr>\n",
       "      <th>1</th>\n",
       "      <td>536365</td>\n",
       "      <td>2010-12-01 08:26:00</td>\n",
       "      <td>17850.0</td>\n",
       "      <td>SC2088</td>\n",
       "      <td>Furniture</td>\n",
       "      <td>95</td>\n",
       "      <td>19.61</td>\n",
       "      <td>Mali</td>\n",
       "      <td>1862.95</td>\n",
       "    </tr>\n",
       "    <tr>\n",
       "      <th>2</th>\n",
       "      <td>536365</td>\n",
       "      <td>2010-12-01 08:26:00</td>\n",
       "      <td>17850.0</td>\n",
       "      <td>SC3463</td>\n",
       "      <td>Books</td>\n",
       "      <td>78</td>\n",
       "      <td>61.49</td>\n",
       "      <td>Mali</td>\n",
       "      <td>4796.22</td>\n",
       "    </tr>\n",
       "    <tr>\n",
       "      <th>3</th>\n",
       "      <td>536365</td>\n",
       "      <td>2010-12-01 08:26:00</td>\n",
       "      <td>17850.0</td>\n",
       "      <td>SC6228</td>\n",
       "      <td>Toys</td>\n",
       "      <td>15</td>\n",
       "      <td>24.73</td>\n",
       "      <td>South Africa</td>\n",
       "      <td>370.95</td>\n",
       "    </tr>\n",
       "    <tr>\n",
       "      <th>4</th>\n",
       "      <td>536365</td>\n",
       "      <td>2010-12-01 08:26:00</td>\n",
       "      <td>17850.0</td>\n",
       "      <td>SC2149</td>\n",
       "      <td>Toys</td>\n",
       "      <td>50</td>\n",
       "      <td>38.83</td>\n",
       "      <td>Rwanda</td>\n",
       "      <td>1941.50</td>\n",
       "    </tr>\n",
       "  </tbody>\n",
       "</table>\n",
       "</div>"
      ],
      "text/plain": [
       "  InvoiceNo         InvoiceDate  CustomerID StockCode  Description  Quantity  \\\n",
       "0    536365 2010-12-01 08:26:00     17850.0    SC1734  Electronics        65   \n",
       "1    536365 2010-12-01 08:26:00     17850.0    SC2088    Furniture        95   \n",
       "2    536365 2010-12-01 08:26:00     17850.0    SC3463        Books        78   \n",
       "3    536365 2010-12-01 08:26:00     17850.0    SC6228         Toys        15   \n",
       "4    536365 2010-12-01 08:26:00     17850.0    SC2149         Toys        50   \n",
       "\n",
       "   UnitPrice       Country  TotalPrice  \n",
       "0      10.23         Egypt      664.95  \n",
       "1      19.61          Mali     1862.95  \n",
       "2      61.49          Mali     4796.22  \n",
       "3      24.73  South Africa      370.95  \n",
       "4      38.83        Rwanda     1941.50  "
      ]
     },
     "execution_count": 47,
     "metadata": {},
     "output_type": "execute_result"
    }
   ],
   "source": [
    "#convert to datetime format\n",
    "df[\"InvoiceDate\"] = pd.to_datetime(df[\"InvoiceDate\"])\n",
    "df.head(5)"
   ]
  },
  {
   "cell_type": "code",
   "execution_count": 49,
   "id": "f58befd6-407c-473d-b13e-08574aedc49a",
   "metadata": {},
   "outputs": [
    {
     "name": "stdout",
     "output_type": "stream",
     "text": [
      "<class 'pandas.core.frame.DataFrame'>\n",
      "Index: 406829 entries, 0 to 541908\n",
      "Data columns (total 9 columns):\n",
      " #   Column       Non-Null Count   Dtype         \n",
      "---  ------       --------------   -----         \n",
      " 0   InvoiceNo    406829 non-null  object        \n",
      " 1   InvoiceDate  406829 non-null  datetime64[ns]\n",
      " 2   CustomerID   406829 non-null  float64       \n",
      " 3   StockCode    406829 non-null  object        \n",
      " 4   Description  406829 non-null  object        \n",
      " 5   Quantity     406829 non-null  int64         \n",
      " 6   UnitPrice    406829 non-null  float64       \n",
      " 7   Country      406829 non-null  object        \n",
      " 8   TotalPrice   406829 non-null  float64       \n",
      "dtypes: datetime64[ns](1), float64(3), int64(1), object(4)\n",
      "memory usage: 31.0+ MB\n"
     ]
    }
   ],
   "source": [
    "df.info()"
   ]
  },
  {
   "cell_type": "code",
   "execution_count": 51,
   "id": "a66449cd-cdb2-4d0d-8366-475f9eb4f0a9",
   "metadata": {},
   "outputs": [],
   "source": [
    "df[\"TotalPrice\"] = df[\"UnitPrice\"] * df[\"Quantity\"]"
   ]
  },
  {
   "cell_type": "code",
   "execution_count": 53,
   "id": "3831d78c-24fb-4855-bf9a-81dc6db104c8",
   "metadata": {},
   "outputs": [
    {
     "data": {
      "text/html": [
       "<div>\n",
       "<style scoped>\n",
       "    .dataframe tbody tr th:only-of-type {\n",
       "        vertical-align: middle;\n",
       "    }\n",
       "\n",
       "    .dataframe tbody tr th {\n",
       "        vertical-align: top;\n",
       "    }\n",
       "\n",
       "    .dataframe thead th {\n",
       "        text-align: right;\n",
       "    }\n",
       "</style>\n",
       "<table border=\"1\" class=\"dataframe\">\n",
       "  <thead>\n",
       "    <tr style=\"text-align: right;\">\n",
       "      <th></th>\n",
       "      <th>InvoiceNo</th>\n",
       "      <th>InvoiceDate</th>\n",
       "      <th>CustomerID</th>\n",
       "      <th>StockCode</th>\n",
       "      <th>Description</th>\n",
       "      <th>Quantity</th>\n",
       "      <th>UnitPrice</th>\n",
       "      <th>Country</th>\n",
       "      <th>TotalPrice</th>\n",
       "    </tr>\n",
       "  </thead>\n",
       "  <tbody>\n",
       "    <tr>\n",
       "      <th>0</th>\n",
       "      <td>536365</td>\n",
       "      <td>2010-12-01 08:26:00</td>\n",
       "      <td>17850.0</td>\n",
       "      <td>SC1734</td>\n",
       "      <td>Electronics</td>\n",
       "      <td>65</td>\n",
       "      <td>10.23</td>\n",
       "      <td>Egypt</td>\n",
       "      <td>664.95</td>\n",
       "    </tr>\n",
       "    <tr>\n",
       "      <th>1</th>\n",
       "      <td>536365</td>\n",
       "      <td>2010-12-01 08:26:00</td>\n",
       "      <td>17850.0</td>\n",
       "      <td>SC2088</td>\n",
       "      <td>Furniture</td>\n",
       "      <td>95</td>\n",
       "      <td>19.61</td>\n",
       "      <td>Mali</td>\n",
       "      <td>1862.95</td>\n",
       "    </tr>\n",
       "    <tr>\n",
       "      <th>2</th>\n",
       "      <td>536365</td>\n",
       "      <td>2010-12-01 08:26:00</td>\n",
       "      <td>17850.0</td>\n",
       "      <td>SC3463</td>\n",
       "      <td>Books</td>\n",
       "      <td>78</td>\n",
       "      <td>61.49</td>\n",
       "      <td>Mali</td>\n",
       "      <td>4796.22</td>\n",
       "    </tr>\n",
       "    <tr>\n",
       "      <th>3</th>\n",
       "      <td>536365</td>\n",
       "      <td>2010-12-01 08:26:00</td>\n",
       "      <td>17850.0</td>\n",
       "      <td>SC6228</td>\n",
       "      <td>Toys</td>\n",
       "      <td>15</td>\n",
       "      <td>24.73</td>\n",
       "      <td>South Africa</td>\n",
       "      <td>370.95</td>\n",
       "    </tr>\n",
       "    <tr>\n",
       "      <th>4</th>\n",
       "      <td>536365</td>\n",
       "      <td>2010-12-01 08:26:00</td>\n",
       "      <td>17850.0</td>\n",
       "      <td>SC2149</td>\n",
       "      <td>Toys</td>\n",
       "      <td>50</td>\n",
       "      <td>38.83</td>\n",
       "      <td>Rwanda</td>\n",
       "      <td>1941.50</td>\n",
       "    </tr>\n",
       "  </tbody>\n",
       "</table>\n",
       "</div>"
      ],
      "text/plain": [
       "  InvoiceNo         InvoiceDate  CustomerID StockCode  Description  Quantity  \\\n",
       "0    536365 2010-12-01 08:26:00     17850.0    SC1734  Electronics        65   \n",
       "1    536365 2010-12-01 08:26:00     17850.0    SC2088    Furniture        95   \n",
       "2    536365 2010-12-01 08:26:00     17850.0    SC3463        Books        78   \n",
       "3    536365 2010-12-01 08:26:00     17850.0    SC6228         Toys        15   \n",
       "4    536365 2010-12-01 08:26:00     17850.0    SC2149         Toys        50   \n",
       "\n",
       "   UnitPrice       Country  TotalPrice  \n",
       "0      10.23         Egypt      664.95  \n",
       "1      19.61          Mali     1862.95  \n",
       "2      61.49          Mali     4796.22  \n",
       "3      24.73  South Africa      370.95  \n",
       "4      38.83        Rwanda     1941.50  "
      ]
     },
     "execution_count": 53,
     "metadata": {},
     "output_type": "execute_result"
    }
   ],
   "source": [
    "df.head(5)"
   ]
  },
  {
   "cell_type": "markdown",
   "id": "55100c81-6713-4bd3-b1c5-a0d0cbfbc95a",
   "metadata": {},
   "source": [
    "## Analysis by Country"
   ]
  },
  {
   "cell_type": "markdown",
   "id": "86454a6b-d830-42f8-80a2-70d39d003e3a",
   "metadata": {},
   "source": [
    "# Exploratory Data Analysis\n"
   ]
  },
  {
   "cell_type": "markdown",
   "id": "65af0c06-64d7-4b2f-b9fb-38cd4dd61c11",
   "metadata": {},
   "source": [
    "### Bivariate analysis of countries and total number of purchase\n"
   ]
  },
  {
   "cell_type": "code",
   "execution_count": 58,
   "id": "a1c167da-3136-4eda-9de3-13d29d21b0ae",
   "metadata": {},
   "outputs": [],
   "source": [
    "#Analysis by country \n",
    "quantity_per_country = df.groupby([\"Country\"])[\"Quantity\"].sum().reset_index()\n",
    "quantity_per_country = quantity_per_country.sort_values (\"Quantity\",ascending = False).reset_index()"
   ]
  },
  {
   "cell_type": "code",
   "execution_count": 60,
   "id": "636346f0-fe74-4df0-88ef-203763b028e7",
   "metadata": {},
   "outputs": [
    {
     "data": {
      "text/html": [
       "<div>\n",
       "<style scoped>\n",
       "    .dataframe tbody tr th:only-of-type {\n",
       "        vertical-align: middle;\n",
       "    }\n",
       "\n",
       "    .dataframe tbody tr th {\n",
       "        vertical-align: top;\n",
       "    }\n",
       "\n",
       "    .dataframe thead th {\n",
       "        text-align: right;\n",
       "    }\n",
       "</style>\n",
       "<table border=\"1\" class=\"dataframe\">\n",
       "  <thead>\n",
       "    <tr style=\"text-align: right;\">\n",
       "      <th></th>\n",
       "      <th>index</th>\n",
       "      <th>Country</th>\n",
       "      <th>Quantity</th>\n",
       "    </tr>\n",
       "  </thead>\n",
       "  <tbody>\n",
       "    <tr>\n",
       "      <th>0</th>\n",
       "      <td>23</td>\n",
       "      <td>Togo</td>\n",
       "      <td>741223</td>\n",
       "    </tr>\n",
       "    <tr>\n",
       "      <th>1</th>\n",
       "      <td>20</td>\n",
       "      <td>South Africa</td>\n",
       "      <td>740589</td>\n",
       "    </tr>\n",
       "    <tr>\n",
       "      <th>2</th>\n",
       "      <td>4</td>\n",
       "      <td>Cote d'Ivoire</td>\n",
       "      <td>740229</td>\n",
       "    </tr>\n",
       "    <tr>\n",
       "      <th>3</th>\n",
       "      <td>15</td>\n",
       "      <td>Nigeria</td>\n",
       "      <td>739708</td>\n",
       "    </tr>\n",
       "    <tr>\n",
       "      <th>4</th>\n",
       "      <td>9</td>\n",
       "      <td>Libya</td>\n",
       "      <td>739206</td>\n",
       "    </tr>\n",
       "  </tbody>\n",
       "</table>\n",
       "</div>"
      ],
      "text/plain": [
       "   index        Country  Quantity\n",
       "0     23           Togo    741223\n",
       "1     20   South Africa    740589\n",
       "2      4  Cote d'Ivoire    740229\n",
       "3     15        Nigeria    739708\n",
       "4      9          Libya    739206"
      ]
     },
     "execution_count": 60,
     "metadata": {},
     "output_type": "execute_result"
    }
   ],
   "source": [
    "quantity_per_country.head(5)"
   ]
  },
  {
   "cell_type": "code",
   "execution_count": 62,
   "id": "cf192592-55e2-4d04-9eda-a831e15a1a8d",
   "metadata": {},
   "outputs": [],
   "source": [
    "#Visualize top 10 countries by sales\n",
    "top_10_countries_by_sales= quantity_per_country.head(10)\n"
   ]
  },
  {
   "cell_type": "code",
   "execution_count": 64,
   "id": "5d1d4d17-4387-423e-a948-7b66b58f313c",
   "metadata": {},
   "outputs": [
    {
     "data": {
      "image/png": "[encoded data removed]",
      "text/plain": [
       "<Figure size 1000x500 with 1 Axes>"
      ]
     },
     "metadata": {},
     "output_type": "display_data"
    }
   ],
   "source": [
    "#Barchart of top_10_countries_by_sales\n",
    "plt.figure(figsize=(10,5)) \n",
    "\n",
    "y_format = FuncFormatter(lambda x, _: f'{x / 1000:.1f}K')\n",
    "\n",
    "ax = sns.barplot(x = \"Country\", y =  \"Quantity\", data =top_10_countries_by_sales)\n",
    "\n",
    "ax.yaxis.set_major_formatter(y_format)\n",
    "\n",
    "\n",
    "plt.xlabel(\"Countries\")\n",
    "plt.ylabel(\"Quantity of products sold by Countries\")\n",
    "plt.title(\" Barchart of top_10_countries_by_sales\")\n",
    "plt.show()"
   ]
  },
  {
   "cell_type": "code",
   "execution_count": 65,
   "id": "5f83ead8-d09b-4368-ad97-ca2f1b9f5fb6",
   "metadata": {},
   "outputs": [],
   "source": [
    "#Visualize least_10_countries_by_sales \n",
    "\n",
    "least_10_countries_by_sales = quantity_per_country.tail(10)\n"
   ]
  },
  {
   "cell_type": "code",
   "execution_count": 68,
   "id": "69698d56-2fad-44ce-bf94-59b9064e8f7c",
   "metadata": {},
   "outputs": [
    {
     "data": {
      "image/png": "[encoded data removed]",
      "text/plain": [
       "<Figure size 1000x500 with 1 Axes>"
      ]
     },
     "metadata": {},
     "output_type": "display_data"
    }
   ],
   "source": [
    "#Barchart of last_10_countries_by_sales\n",
    "\n",
    "plt.figure(figsize=(10,5)) \n",
    "\n",
    "y_format = FuncFormatter(lambda x, _: f'{x / 1000:.1f}K')\n",
    "\n",
    "ax = sns.barplot(x = \"Country\", y =  \"Quantity\", data =least_10_countries_by_sales)\n",
    "\n",
    "ax.yaxis.set_major_formatter(y_format)\n",
    "\n",
    "plt.xlabel(\"Countries\")\n",
    "plt.ylabel(\"Quantity of products sold by Countries\")\n",
    "plt.title(\" Barchart of top_10_countries_by_sales\")\n",
    "plt.show()"
   ]
  },
  {
   "cell_type": "markdown",
   "id": "fc488ca6-a387-4287-b58d-b7cdca8fe0d0",
   "metadata": {},
   "source": [
    "### Analysis of customer by countries\n"
   ]
  },
  {
   "cell_type": "code",
   "execution_count": 71,
   "id": "d1139749-68d3-41d8-aac2-f3beabda532f",
   "metadata": {},
   "outputs": [],
   "source": [
    "country_to_customers = df.groupby([\"Country\"])[\"CustomerID\"].nunique().reset_index()\n"
   ]
  },
  {
   "cell_type": "code",
   "execution_count": 73,
   "id": "cc103028-4eba-44ae-9955-04b049022b46",
   "metadata": {},
   "outputs": [],
   "source": [
    "country_to_customers = country_to_customers.sort_values(\"CustomerID\", ascending = False).reset_index()\n",
    "country_to_customers.rename(columns = {\"CustomerID\" : \"Number of customers\"}, inplace = True)"
   ]
  },
  {
   "cell_type": "code",
   "execution_count": 75,
   "id": "a13e6e22-1b6a-4856-bebc-20204bfaf81e",
   "metadata": {},
   "outputs": [
    {
     "data": {
      "image/png": "[encoded data removed]",
      "text/plain": [
       "<Figure size 2000x500 with 1 Axes>"
      ]
     },
     "metadata": {},
     "output_type": "display_data"
    }
   ],
   "source": [
    "# Draw a plot of top 10 countries with highest number of customers (unique customerID)\n",
    "top_countries_to_customers = country_to_customers.head(10)\n",
    "\n",
    "# Create a bar chart from the selected data\n",
    "plt.figure(figsize=(20, 5))\n",
    "\n",
    "sns.barplot(x='Country', y='Number of customers', data= top_countries_to_customers)\n",
    "\n",
    "plt.xlabel('Countries')\n",
    "plt.ylabel('Total number of customers')\n",
    "plt.title('Bar Chart of top 10 countries with highest number of customers')\n",
    "plt.show()"
   ]
  },
  {
   "cell_type": "code",
   "execution_count": 76,
   "id": "4b7b9f1a-57cb-4a63-94e5-4b39430b5bdd",
   "metadata": {},
   "outputs": [],
   "source": [
    "# Group the data by month and calculate the total monthly sales\n",
    "monthly_sales = df.groupby(df['InvoiceDate'].dt.to_period('M'))['Quantity'].sum()"
   ]
  },
  {
   "cell_type": "code",
   "execution_count": 79,
   "id": "8d55aea3-22de-4a4b-98c0-71181fac751d",
   "metadata": {},
   "outputs": [
    {
     "data": {
      "text/plain": [
       "InvoiceDate\n",
       "2010-12    1350834\n",
       "2011-01    1105886\n",
       "2011-02    1033468\n",
       "2011-03    1406617\n",
       "2011-04    1175052\n",
       "2011-05    1459981\n",
       "2011-06    1402857\n",
       "2011-07    1388119\n",
       "2011-08    1387695\n",
       "2011-09    2061181\n",
       "2011-10    2559609\n",
       "2011-11    3313177\n",
       "2011-12     891630\n",
       "Freq: M, Name: Quantity, dtype: int64"
      ]
     },
     "execution_count": 79,
     "metadata": {},
     "output_type": "execute_result"
    }
   ],
   "source": [
    "monthly_sales"
   ]
  },
  {
   "cell_type": "code",
   "execution_count": 81,
   "id": "26702ff5-2f34-4af6-9a6d-56ae555e09ef",
   "metadata": {},
   "outputs": [
    {
     "data": {
      "image/png": "[encoded data removed]",
      "text/plain": [
       "<Figure size 2000x1000 with 1 Axes>"
      ]
     },
     "metadata": {},
     "output_type": "display_data"
    }
   ],
   "source": [
    "\n",
    "# Create a line chart\n",
    "plt.figure(figsize=(20, 10))\n",
    "plt.plot(monthly_sales.index.strftime('%Y-%m'), monthly_sales.values, marker='o', linestyle='-')\n",
    "plt.xlabel('Month')\n",
    "plt.ylabel('Total Sales')\n",
    "plt.title('Monthly Sales Trend')\n",
    "plt.grid(True)\n",
    "\n",
    "# Display the plot\n",
    "plt.show()"
   ]
  },
  {
   "cell_type": "code",
   "execution_count": 83,
   "id": "ff9c54a6-b6db-478e-93df-98846d37685b",
   "metadata": {},
   "outputs": [],
   "source": [
    "#create Invoice month as new feature\n",
    "def get_month(x):\n",
    "    return dt.datetime(x.year, x.month, 1)"
   ]
  },
  {
   "cell_type": "code",
   "execution_count": 88,
   "id": "ebdffaa9-0904-477f-b018-e3bd13b6b737",
   "metadata": {},
   "outputs": [
    {
     "data": {
      "text/html": [
       "<div>\n",
       "<style scoped>\n",
       "    .dataframe tbody tr th:only-of-type {\n",
       "        vertical-align: middle;\n",
       "    }\n",
       "\n",
       "    .dataframe tbody tr th {\n",
       "        vertical-align: top;\n",
       "    }\n",
       "\n",
       "    .dataframe thead th {\n",
       "        text-align: right;\n",
       "    }\n",
       "</style>\n",
       "<table border=\"1\" class=\"dataframe\">\n",
       "  <thead>\n",
       "    <tr style=\"text-align: right;\">\n",
       "      <th></th>\n",
       "      <th>InvoiceNo</th>\n",
       "      <th>InvoiceDate</th>\n",
       "      <th>CustomerID</th>\n",
       "      <th>StockCode</th>\n",
       "      <th>Description</th>\n",
       "      <th>Quantity</th>\n",
       "      <th>UnitPrice</th>\n",
       "      <th>Country</th>\n",
       "      <th>TotalPrice</th>\n",
       "    </tr>\n",
       "  </thead>\n",
       "  <tbody>\n",
       "    <tr>\n",
       "      <th>541904</th>\n",
       "      <td>581587</td>\n",
       "      <td>2011-12-01</td>\n",
       "      <td>12680.0</td>\n",
       "      <td>SC5440</td>\n",
       "      <td>Furniture</td>\n",
       "      <td>25</td>\n",
       "      <td>36.53</td>\n",
       "      <td>Mozambique</td>\n",
       "      <td>913.25</td>\n",
       "    </tr>\n",
       "    <tr>\n",
       "      <th>541905</th>\n",
       "      <td>581587</td>\n",
       "      <td>2011-12-01</td>\n",
       "      <td>12680.0</td>\n",
       "      <td>SC3576</td>\n",
       "      <td>Cloths</td>\n",
       "      <td>94</td>\n",
       "      <td>90.65</td>\n",
       "      <td>Tunisia</td>\n",
       "      <td>8521.10</td>\n",
       "    </tr>\n",
       "    <tr>\n",
       "      <th>541906</th>\n",
       "      <td>581587</td>\n",
       "      <td>2011-12-01</td>\n",
       "      <td>12680.0</td>\n",
       "      <td>SC5283</td>\n",
       "      <td>Furniture</td>\n",
       "      <td>14</td>\n",
       "      <td>40.07</td>\n",
       "      <td>Somalia</td>\n",
       "      <td>560.98</td>\n",
       "    </tr>\n",
       "    <tr>\n",
       "      <th>541907</th>\n",
       "      <td>581587</td>\n",
       "      <td>2011-12-01</td>\n",
       "      <td>12680.0</td>\n",
       "      <td>SC1099</td>\n",
       "      <td>Cosmetics</td>\n",
       "      <td>45</td>\n",
       "      <td>79.83</td>\n",
       "      <td>Senegal</td>\n",
       "      <td>3592.35</td>\n",
       "    </tr>\n",
       "    <tr>\n",
       "      <th>541908</th>\n",
       "      <td>581587</td>\n",
       "      <td>2011-12-01</td>\n",
       "      <td>12680.0</td>\n",
       "      <td>SC9276</td>\n",
       "      <td>Toys</td>\n",
       "      <td>6</td>\n",
       "      <td>46.62</td>\n",
       "      <td>Ethiopia</td>\n",
       "      <td>279.72</td>\n",
       "    </tr>\n",
       "  </tbody>\n",
       "</table>\n",
       "</div>"
      ],
      "text/plain": [
       "       InvoiceNo InvoiceDate  CustomerID StockCode Description  Quantity  \\\n",
       "541904    581587  2011-12-01     12680.0    SC5440   Furniture        25   \n",
       "541905    581587  2011-12-01     12680.0    SC3576      Cloths        94   \n",
       "541906    581587  2011-12-01     12680.0    SC5283   Furniture        14   \n",
       "541907    581587  2011-12-01     12680.0    SC1099   Cosmetics        45   \n",
       "541908    581587  2011-12-01     12680.0    SC9276        Toys         6   \n",
       "\n",
       "        UnitPrice     Country  TotalPrice  \n",
       "541904      36.53  Mozambique      913.25  \n",
       "541905      90.65     Tunisia     8521.10  \n",
       "541906      40.07     Somalia      560.98  \n",
       "541907      79.83     Senegal     3592.35  \n",
       "541908      46.62    Ethiopia      279.72  "
      ]
     },
     "execution_count": 88,
     "metadata": {},
     "output_type": "execute_result"
    }
   ],
   "source": [
    "df[\"InvoiceDate\"]  = df[\"InvoiceDate\"].apply(get_month)\n",
    "df.tail()\n"
   ]
  },
  {
   "cell_type": "code",
   "execution_count": 92,
   "id": "0d4e04f9-8715-4e91-8803-8cde878e7194",
   "metadata": {},
   "outputs": [],
   "source": [
    "def get_cohort_date(df):\n",
    "    \"\"\" this function takes in the dataframe\n",
    "        and returns the cohort date\n",
    "\n",
    "        variables:\n",
    "        data = dataframe\n",
    "        cohort date = the first date they made a purchase\n",
    "        \"\"\"\n",
    "\n",
    "    # assign the minimum date to all unique candidateID, i.e the first day they made a purchase\n",
    "    data[\"cohort date\"] = data.groupby(\"CustomerID\")[\"InvoiceDate\"].transform(\"min\")\n",
    "\n",
    "    return data[\"cohort date\"]"
   ]
  },
  {
   "cell_type": "code",
   "execution_count": 100,
   "id": "80db377c-eb59-4cc9-8d97-7b50775c4325",
   "metadata": {},
   "outputs": [],
   "source": [
    "#apply the function created to our dataframe and extract the 2 newly created column\n",
    "\n",
    "df[\"cohort date\"] = get_cohort_date(df)"
   ]
  },
  {
   "cell_type": "code",
   "execution_count": null,
   "id": "69e30071-dab9-4e1f-9678-2b710e23c71c",
   "metadata": {},
   "outputs": [],
   "source": []
  }
 ],
 "metadata": {
  "kernelspec": {
   "display_name": "Python [conda env:base] *",
   "language": "python",
   "name": "conda-base-py"
  },
  "language_info": {
   "codemirror_mode": {
    "name": "ipython",
    "version": 3
   },
   "file_extension": ".py",
   "mimetype": "text/x-python",
   "name": "python",
   "nbconvert_exporter": "python",
   "pygments_lexer": "ipython3",
   "version": "3.11.5"
  }
 },
 "nbformat": 4,
 "nbformat_minor": 5
}
